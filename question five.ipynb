{
 "cells": [
  {
   "cell_type": "code",
   "execution_count": null,
   "id": "fc9b089c-0946-45c9-ae1a-514d77a776c8",
   "metadata": {},
   "outputs": [],
   "source": [
    "import numpy as np"
   ]
  },
  {
   "cell_type": "code",
   "execution_count": null,
   "id": "b35e381b-0139-4dcf-bda0-6e262cfea491",
   "metadata": {},
   "outputs": [],
   "source": [
    "import pandas as pd"
   ]
  },
  {
   "cell_type": "code",
   "execution_count": null,
   "id": "6c415ef2-1d10-43d8-929a-be041d048157",
   "metadata": {},
   "outputs": [],
   "source": [
    "matrix_x = np.array([[1,0.2,0.5],[0.2,1,0.8],[0.5,0.8,1]])\n",
    "print(matrix_x)"
   ]
  },
  {
   "cell_type": "markdown",
   "id": "a9409da1-2570-46ed-a9ec-1e28e093d7bf",
   "metadata": {},
   "source": [
    "## i)Inversion of the matrix"
   ]
  },
  {
   "cell_type": "code",
   "execution_count": 34,
   "id": "5252c870-23bc-4cf8-9649-aa71f28263eb",
   "metadata": {},
   "outputs": [
    {
     "name": "stdout",
     "output_type": "stream",
     "text": [
      "[[1.  0.2 0.5]\n",
      " [0.2 1.  0.8]\n",
      " [0.5 0.8 1. ]]\n"
     ]
    }
   ],
   "source": [
    "matrix_transpose = matrix_x.T\n",
    "print(matrix_transpose)"
   ]
  },
  {
   "cell_type": "markdown",
   "id": "8701c743-927d-47e3-9758-4c1325191f21",
   "metadata": {},
   "source": [
    "## ii)Determinant of the matrix"
   ]
  },
  {
   "cell_type": "code",
   "execution_count": 29,
   "id": "6dd58eed-f91c-49de-bca7-b76d14fa5559",
   "metadata": {},
   "outputs": [
    {
     "name": "stdout",
     "output_type": "stream",
     "text": [
      "0.2299999999999999\n"
     ]
    }
   ],
   "source": [
    "matrixDet = np.linalg.det(matrix_x)\n",
    "print(matrixDet)"
   ]
  },
  {
   "cell_type": "markdown",
   "id": "550e64ce-c561-41e2-bcff-dbb673d65415",
   "metadata": {},
   "source": [
    " ## iii)Decompose of the matrix"
   ]
  },
  {
   "cell_type": "code",
   "execution_count": 31,
   "id": "2a040567-e073-498b-ae10-ea37d62b29bd",
   "metadata": {},
   "outputs": [
    {
     "name": "stdout",
     "output_type": "stream",
     "text": [
      "SVDResult(U=array([[-0.43721717,  0.85359707, -0.28321933],\n",
      "       [-0.59931898, -0.51133314, -0.61591816],\n",
      "       [-0.67056536, -0.09955128,  0.73514055]]), S=array([2.04100779, 0.82188052, 0.13711169]), Vh=array([[-0.43721717, -0.59931898, -0.67056536],\n",
      "       [ 0.85359707, -0.51133314, -0.09955128],\n",
      "       [-0.28321933, -0.61591816,  0.73514055]]))\n"
     ]
    }
   ],
   "source": [
    "matrixDecompose = np.linalg.svd(matrix_x) \n",
    "print(matrixDecompose)"
   ]
  },
  {
   "cell_type": "markdown",
   "id": "21cc517b-11a3-45ee-b2f7-91736871d63f",
   "metadata": {},
   "source": [
    "## (iv) Transforming the matrix"
   ]
  },
  {
   "cell_type": "code",
   "execution_count": 32,
   "id": "72bb470f-f1c9-41f0-9541-96283b7227dd",
   "metadata": {},
   "outputs": [
    {
     "name": "stdout",
     "output_type": "stream",
     "text": [
      "(3, 3)\n"
     ]
    }
   ],
   "source": [
    "matrixTransform = matrix_x.shape\n",
    "print(matrixTransform)"
   ]
  },
  {
   "cell_type": "code",
   "execution_count": null,
   "id": "843bd311-e302-4fe0-b548-9bfbe0505b57",
   "metadata": {},
   "outputs": [],
   "source": []
  }
 ],
 "metadata": {
  "kernelspec": {
   "display_name": "Python 3",
   "language": "python",
   "name": "python3"
  },
  "language_info": {
   "codemirror_mode": {
    "name": "ipython",
    "version": 3
   },
   "file_extension": ".py",
   "mimetype": "text/x-python",
   "name": "python",
   "nbconvert_exporter": "python",
   "pygments_lexer": "ipython3",
   "version": "3.12.6"
  }
 },
 "nbformat": 4,
 "nbformat_minor": 5
}
